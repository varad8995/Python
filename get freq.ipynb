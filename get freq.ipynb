{
 "cells": [
  {
   "cell_type": "code",
   "execution_count": 3,
   "id": "905d49ec",
   "metadata": {},
   "outputs": [],
   "source": [
    "def getFreq(arr,n,x):\n",
    "    key=0\n",
    "    for i in range(n):\n",
    "        if x==arr[i]:\n",
    "            key+=1\n",
    "    return key       \n",
    "        \n",
    "        "
   ]
  },
  {
   "cell_type": "code",
   "execution_count": 4,
   "id": "65d1bb76",
   "metadata": {},
   "outputs": [
    {
     "data": {
      "text/plain": [
       "4"
      ]
     },
     "execution_count": 4,
     "metadata": {},
     "output_type": "execute_result"
    }
   ],
   "source": [
    "arr=[1,2,3,4,1,1,1]\n",
    "arr1 = len(arr)\n",
    "x = 1\n",
    "getFreq(arr,arr1,x)"
   ]
  },
  {
   "cell_type": "code",
   "execution_count": 5,
   "id": "d286e6f3",
   "metadata": {},
   "outputs": [
    {
     "name": "stdout",
     "output_type": "stream",
     "text": [
      "The original string is : Geeksforgeeks\n",
      "The reversed string(using extended slice syntax) is : skeegrofskeeG\n"
     ]
    }
   ],
   "source": [
    "def findFrequency (arr, n, x):\n",
    "    # Your Code Here\n",
    "    key = 0\n",
    "    for i in range(len(n)):\n",
    "        if x==arr[i]:\n",
    "            key+=1\n",
    "        return key    \n"
   ]
  },
  {
   "cell_type": "code",
   "execution_count": null,
   "id": "6507ac45",
   "metadata": {},
   "outputs": [],
   "source": []
  }
 ],
 "metadata": {
  "kernelspec": {
   "display_name": "Python 3",
   "language": "python",
   "name": "python3"
  },
  "language_info": {
   "codemirror_mode": {
    "name": "ipython",
    "version": 3
   },
   "file_extension": ".py",
   "mimetype": "text/x-python",
   "name": "python",
   "nbconvert_exporter": "python",
   "pygments_lexer": "ipython3",
   "version": "3.8.8"
  }
 },
 "nbformat": 4,
 "nbformat_minor": 5
}
