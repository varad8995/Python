{
 "cells": [
  {
   "cell_type": "markdown",
   "id": "7491dcdc",
   "metadata": {},
   "source": [
    "## stacks using arrays\n",
    "stack is collection of object which follows fifo principal \n",
    "\n",
    "\n",
    "it follows some adt \n",
    "\n",
    "\n",
    "1.push():insert element\n",
    "2.pop():remove and return element\n",
    "3.top();return last element\n",
    "4.len : no of elements\n",
    "5.isEmpty():whether stack is empty or not\n",
    "    "
   ]
  },
  {
   "cell_type": "code",
   "execution_count": 24,
   "id": "655b5aed",
   "metadata": {},
   "outputs": [
    {
     "name": "stdout",
     "output_type": "stream",
     "text": [
      "Stack is empty\n",
      "[5, 6, 7]\n",
      "length 3\n"
     ]
    },
    {
     "data": {
      "text/plain": [
       "False"
      ]
     },
     "execution_count": 24,
     "metadata": {},
     "output_type": "execute_result"
    }
   ],
   "source": [
    "class StackArrays:\n",
    "    def __init__(self):\n",
    "        self.data = []\n",
    "        \n",
    "    def __len__(self):\n",
    "        return len(self.data)\n",
    "    def isempty(self):\n",
    "        return len(self.data) == 0\n",
    "    def push(self,e):\n",
    "        self.data.append(e)\n",
    "    def pop(self):\n",
    "        if self.isempty():\n",
    "            print(\"Stack is empty\")\n",
    "        else:\n",
    "            return self.data.pop()\n",
    "        \n",
    "    def top(self):\n",
    "        if self.isempty():\n",
    "            print(\"Stack is empty\")\n",
    "        else:\n",
    "            return self.data[-1]\n",
    "        \n",
    "        \n",
    "\n",
    "s = StackArrays()        \n",
    "s.push(5)\n",
    "s.push(6)\n",
    "s.push(7)\n",
    "s.push(8)\n",
    "s.pop()\n",
    "s.pop()\n",
    "s.pop()\n",
    "s.pop()\n",
    "s.pop()\n",
    "s.push(5)\n",
    "s.push(6)\n",
    "s.push(7)\n",
    "s.push(8)\n",
    "s.top()\n",
    "s.pop()\n",
    "print(s.data)\n",
    "print(\"length\",len(s))\n",
    "s.isempty()"
   ]
  },
  {
   "cell_type": "markdown",
   "id": "5c1b3902",
   "metadata": {},
   "source": [
    "## stack using linked list"
   ]
  },
  {
   "cell_type": "code",
   "execution_count": 7,
   "id": "17d28b9b",
   "metadata": {},
   "outputs": [
    {
     "name": "stdout",
     "output_type": "stream",
     "text": [
      "4-->5-->6-->\n",
      "7-->5-->6-->\n",
      "66-->9-->7-->7-->5-->6-->\n"
     ]
    }
   ],
   "source": [
    "class Node:\n",
    "    __slots__ = \"_element\",\"_next\" ## class level member  && instance variables\n",
    "    ##here we are using slots to efficiently allocate a memory and to overcome dict problems which req additional data usage\n",
    "    \n",
    "    \n",
    "    #init function gets insitiated whenever we create an object (when we create a node it will assign it element and link)\n",
    "    \n",
    "    def __init__(self,element,next): \n",
    "        self._element = element #self is used to access instance variables\n",
    "        self._next = next\n",
    "        \n",
    "class StackLinkedList:\n",
    "    def __init__(self):\n",
    "        self.top = None\n",
    "        self.size = 0\n",
    "    def __len__(self):\n",
    "        return self.size\n",
    "    def isempty(self):\n",
    "        return self.size == 0\n",
    "    def push(self,e):\n",
    "        new = Node(e,None)\n",
    "        if self.isempty():\n",
    "            self.top = new\n",
    "        else:\n",
    "            new._next = self.top\n",
    "            self.top = new\n",
    "        self.size+=1\n",
    "        \n",
    "    def pop(self) :\n",
    "        if self.isempty():\n",
    "            print(\"stack is empty\")\n",
    "            return\n",
    "        e = self.top._element    \n",
    "        self.top = self.top._next\n",
    "        self.size -=1\n",
    "        return e\n",
    "    def top(self):\n",
    "        if self.isempty():\n",
    "            print(\"stack is empty\")\n",
    "            return\n",
    "        return self.top._element    \n",
    "        \n",
    "    def display(self):\n",
    "        p = self.top\n",
    "        while p:\n",
    "            print(p._element,end = \"-->\")\n",
    "            p = p._next\n",
    "        print()    \n",
    "        \n",
    "l =  StackLinkedList()\n",
    "l.push(6)\n",
    "l.push(5)\n",
    "l.push(4)\n",
    "l.display()\n",
    "l.pop()\n",
    "l.push(7)\n",
    "l.display()\n",
    "l.push(7)\n",
    "l.push(9)\n",
    "l.push(66)\n",
    "l.display()"
   ]
  },
  {
   "cell_type": "code",
   "execution_count": null,
   "id": "1ec09a50",
   "metadata": {},
   "outputs": [],
   "source": []
  },
  {
   "cell_type": "code",
   "execution_count": null,
   "id": "e6ff4157",
   "metadata": {},
   "outputs": [],
   "source": []
  },
  {
   "cell_type": "code",
   "execution_count": null,
   "id": "5fff690a",
   "metadata": {},
   "outputs": [],
   "source": []
  },
  {
   "cell_type": "code",
   "execution_count": null,
   "id": "35b84734",
   "metadata": {},
   "outputs": [],
   "source": []
  }
 ],
 "metadata": {
  "kernelspec": {
   "display_name": "Python 3",
   "language": "python",
   "name": "python3"
  },
  "language_info": {
   "codemirror_mode": {
    "name": "ipython",
    "version": 3
   },
   "file_extension": ".py",
   "mimetype": "text/x-python",
   "name": "python",
   "nbconvert_exporter": "python",
   "pygments_lexer": "ipython3",
   "version": "3.8.8"
  }
 },
 "nbformat": 4,
 "nbformat_minor": 5
}
