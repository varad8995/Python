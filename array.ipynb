{
 "cells": [
  {
   "cell_type": "code",
   "execution_count": 1,
   "id": "c026fc6d",
   "metadata": {},
   "outputs": [],
   "source": [
    "Months = {\n",
    "    \"Jan\":2200,\n",
    "    \"Feb\":2350,\n",
    "    \"Mar\":2600,\n",
    "    \"Apr\":2130,\n",
    "    \"May\":2190\n",
    "}"
   ]
  },
  {
   "cell_type": "code",
   "execution_count": 6,
   "id": "90adca98",
   "metadata": {},
   "outputs": [
    {
     "name": "stdout",
     "output_type": "stream",
     "text": [
      "I had spent extra 150 $.\n"
     ]
    }
   ],
   "source": [
    "# in feb how many dollars you spent extra compare to jan ??\n",
    "Extra_spent = Months[\"Feb\"]-Months[\"Jan\"]\n",
    "print(\"I had spent extra\",Extra_spent,\"$.\")"
   ]
  },
  {
   "cell_type": "code",
   "execution_count": 8,
   "id": "461b8c0b",
   "metadata": {},
   "outputs": [
    {
     "name": "stdout",
     "output_type": "stream",
     "text": [
      "TOTAL EXPENSES : 11470\n"
     ]
    }
   ],
   "source": [
    "#Find out total expenses.\n",
    "sum = 0\n",
    "for i in Months.values():\n",
    "    sum += i\n",
    "    \n",
    "print(\"TOTAL EXPENSES :\",sum)"
   ]
  },
  {
   "cell_type": "code",
   "execution_count": 10,
   "id": "1f214a88",
   "metadata": {},
   "outputs": [],
   "source": [
    "for i in Months.values():\n",
    "    if i == 2000:\n",
    "        print(\"i had spent exact 2000$\")\n",
    "    "
   ]
  },
  {
   "cell_type": "code",
   "execution_count": 18,
   "id": "2a381611",
   "metadata": {},
   "outputs": [],
   "source": [
    "Months[\"Apr\"]=2130-200"
   ]
  },
  {
   "cell_type": "code",
   "execution_count": 19,
   "id": "e00fae0e",
   "metadata": {},
   "outputs": [
    {
     "data": {
      "text/plain": [
       "{'Jan': 2200, 'Feb': 2350, 'Mar': 2600, 'Apr': 1930, 'May': 2190}"
      ]
     },
     "execution_count": 19,
     "metadata": {},
     "output_type": "execute_result"
    }
   ],
   "source": [
    "Months\n",
    "\n"
   ]
  },
  {
   "cell_type": "code",
   "execution_count": 20,
   "id": "f8409853",
   "metadata": {},
   "outputs": [
    {
     "ename": "AttributeError",
     "evalue": "'dict' object has no attribute 'append'",
     "output_type": "error",
     "traceback": [
      "\u001b[1;31m---------------------------------------------------------------------------\u001b[0m",
      "\u001b[1;31mAttributeError\u001b[0m                            Traceback (most recent call last)",
      "\u001b[1;32m<ipython-input-20-1055bd240d80>\u001b[0m in \u001b[0;36m<module>\u001b[1;34m\u001b[0m\n\u001b[1;32m----> 1\u001b[1;33m \u001b[0mMonths\u001b[0m\u001b[1;33m.\u001b[0m\u001b[0mappend\u001b[0m\u001b[1;33m(\u001b[0m\u001b[1;36m1980\u001b[0m\u001b[1;33m)\u001b[0m\u001b[1;33m\u001b[0m\u001b[1;33m\u001b[0m\u001b[0m\n\u001b[0m\u001b[0;32m      2\u001b[0m \u001b[0mprint\u001b[0m\u001b[1;33m(\u001b[0m\u001b[1;34m\"Expenses at the end of June:\"\u001b[0m\u001b[1;33m,\u001b[0m\u001b[0mexp\u001b[0m\u001b[1;33m)\u001b[0m\u001b[1;33m\u001b[0m\u001b[1;33m\u001b[0m\u001b[0m\n",
      "\u001b[1;31mAttributeError\u001b[0m: 'dict' object has no attribute 'append'"
     ]
    }
   ],
   "source": [
    "Months.append(1980)\n",
    "print(\"Expenses at the end of June:\",exp)"
   ]
  },
  {
   "cell_type": "code",
   "execution_count": 22,
   "id": "fe9aa566",
   "metadata": {},
   "outputs": [
    {
     "name": "stdout",
     "output_type": "stream",
     "text": [
      "In feb this much extra was spent compared to jan: 150\n",
      "Expense for first quarter: 7150\n",
      "Did I spent 2000$ in any month?  False\n",
      "Expenses at the end of June: [2200, 2350, 2600, 2130, 2190, 1980]\n",
      "Expenses after 200$ return in April: [2200, 2350, 2600, 1930, 2190, 1980]\n"
     ]
    }
   ],
   "source": [
    "\n",
    "exp = [2200,2350,2600,2130,2190]\n",
    "# 1. In Feb, how many dollars you spent extra compare to January?\n",
    "print(\"In feb this much extra was spent compared to jan:\",exp[1]-exp[0]) # 150\n",
    "\n",
    "# 2. Find out your total expense in first quarter (first three months) of the year\n",
    "print(\"Expense for first quarter:\",exp[0]+exp[1]+exp[2]) # 7150\n",
    "\n",
    "# 3. Find out if you spent exactly 2000 dollars in any month\n",
    "print(\"Did I spent 2000$ in any month? \", 2000 in exp) # False\n",
    "\n",
    "# 4. June month just finished and your expense is 1980 dollar. Add this item to our monthly expense list\n",
    "exp.append(1980)\n",
    "print(\"Expenses at the end of June:\",exp) # [2200, 2350, 2600, 2130, 2190, 1980]\n",
    "\n",
    "# 5. You returned an item that you bought in a month of April and\n",
    "# got a refund of 200$. Make a correction to your monthly expense list\n",
    "# based on this\n",
    "exp[3] = exp[3] - 200\n",
    "print(\"Expenses after 200$ return in April:\",exp) # [2200, 2350, 2600, 1930, 2190, 1980]"
   ]
  },
  {
   "cell_type": "code",
   "execution_count": 23,
   "id": "5fedb132",
   "metadata": {},
   "outputs": [
    {
     "name": "stdout",
     "output_type": "stream",
     "text": [
      "Length of the list is 5\n"
     ]
    }
   ],
   "source": [
    "heros=['spider man','thor','hulk','iron man','captain america']\n",
    "print(\"Length of the list is\",len(heros))"
   ]
  },
  {
   "cell_type": "code",
   "execution_count": 24,
   "id": "668f8723",
   "metadata": {},
   "outputs": [],
   "source": [
    "heros.append(\"Black panther\")"
   ]
  },
  {
   "cell_type": "code",
   "execution_count": 25,
   "id": "d2b1d5a6",
   "metadata": {},
   "outputs": [
    {
     "data": {
      "text/plain": [
       "['spider man', 'thor', 'hulk', 'iron man', 'captain america', 'Black panther']"
      ]
     },
     "execution_count": 25,
     "metadata": {},
     "output_type": "execute_result"
    }
   ],
   "source": [
    "heros"
   ]
  },
  {
   "cell_type": "code",
   "execution_count": 31,
   "id": "ebc056db",
   "metadata": {},
   "outputs": [],
   "source": [
    "heros.remove('Black panther')"
   ]
  },
  {
   "cell_type": "code",
   "execution_count": 32,
   "id": "efc67f38",
   "metadata": {},
   "outputs": [
    {
     "data": {
      "text/plain": [
       "['spider man', 'thor', 'hulk', 'iron man', 'captain america']"
      ]
     },
     "execution_count": 32,
     "metadata": {},
     "output_type": "execute_result"
    }
   ],
   "source": [
    "heros"
   ]
  },
  {
   "cell_type": "code",
   "execution_count": 33,
   "id": "c61e3377",
   "metadata": {},
   "outputs": [],
   "source": [
    "heros.insert(3,'Black panther')"
   ]
  },
  {
   "cell_type": "code",
   "execution_count": 34,
   "id": "30c1b1d4",
   "metadata": {},
   "outputs": [
    {
     "data": {
      "text/plain": [
       "['spider man', 'thor', 'hulk', 'Black panther', 'iron man', 'captain america']"
      ]
     },
     "execution_count": 34,
     "metadata": {},
     "output_type": "execute_result"
    }
   ],
   "source": [
    "heros"
   ]
  },
  {
   "cell_type": "code",
   "execution_count": 35,
   "id": "e09e8fdc",
   "metadata": {},
   "outputs": [
    {
     "data": {
      "text/plain": [
       "'thor'"
      ]
     },
     "execution_count": 35,
     "metadata": {},
     "output_type": "execute_result"
    }
   ],
   "source": [
    "heros.pop(1)"
   ]
  },
  {
   "cell_type": "code",
   "execution_count": 36,
   "id": "f32af3a4",
   "metadata": {},
   "outputs": [
    {
     "data": {
      "text/plain": [
       "'Black panther'"
      ]
     },
     "execution_count": 36,
     "metadata": {},
     "output_type": "execute_result"
    }
   ],
   "source": [
    "heros.pop(2)"
   ]
  },
  {
   "cell_type": "code",
   "execution_count": 37,
   "id": "ba554bd6",
   "metadata": {},
   "outputs": [
    {
     "data": {
      "text/plain": [
       "['spider man', 'hulk', 'iron man', 'captain america']"
      ]
     },
     "execution_count": 37,
     "metadata": {},
     "output_type": "execute_result"
    }
   ],
   "source": [
    "heros"
   ]
  },
  {
   "cell_type": "code",
   "execution_count": 38,
   "id": "4cfeeea9",
   "metadata": {},
   "outputs": [],
   "source": [
    "heros.sort()"
   ]
  },
  {
   "cell_type": "code",
   "execution_count": 39,
   "id": "a8e61fc8",
   "metadata": {},
   "outputs": [
    {
     "data": {
      "text/plain": [
       "['captain america', 'hulk', 'iron man', 'spider man']"
      ]
     },
     "execution_count": 39,
     "metadata": {},
     "output_type": "execute_result"
    }
   ],
   "source": [
    "heros"
   ]
  },
  {
   "cell_type": "code",
   "execution_count": 40,
   "id": "af828e8f",
   "metadata": {},
   "outputs": [],
   "source": [
    "#heros[1:3]=['doctor strange']\n",
    "#print(heros)\n"
   ]
  },
  {
   "cell_type": "code",
   "execution_count": null,
   "id": "f96877cd",
   "metadata": {},
   "outputs": [],
   "source": []
  },
  {
   "cell_type": "code",
   "execution_count": null,
   "id": "903d88e3",
   "metadata": {},
   "outputs": [],
   "source": []
  },
  {
   "cell_type": "code",
   "execution_count": 42,
   "id": "d2cdc62d",
   "metadata": {},
   "outputs": [
    {
     "name": "stdout",
     "output_type": "stream",
     "text": [
      "Enter the number :10\n"
     ]
    }
   ],
   "source": [
    "user = int(input(\"Enter the number :\"))\n",
    "odd = []\n",
    "for i in range(user):\n",
    "    \n",
    "    if i%2!= 0:\n",
    "                odd.append(i)\n",
    "        \n",
    "\n",
    "    "
   ]
  },
  {
   "cell_type": "code",
   "execution_count": 46,
   "id": "04c5b0e4",
   "metadata": {},
   "outputs": [
    {
     "name": "stdout",
     "output_type": "stream",
     "text": [
      "Enter the number :1000\n",
      "odd numbers [1, 3, 5, 7, 9, 11, 13, 15, 17, 19, 21, 23, 25, 27, 29, 31, 33, 35, 37, 39, 41, 43, 45, 47, 49, 51, 53, 55, 57, 59, 61, 63, 65, 67, 69, 71, 73, 75, 77, 79, 81, 83, 85, 87, 89, 91, 93, 95, 97, 99, 101, 103, 105, 107, 109, 111, 113, 115, 117, 119, 121, 123, 125, 127, 129, 131, 133, 135, 137, 139, 141, 143, 145, 147, 149, 151, 153, 155, 157, 159, 161, 163, 165, 167, 169, 171, 173, 175, 177, 179, 181, 183, 185, 187, 189, 191, 193, 195, 197, 199, 201, 203, 205, 207, 209, 211, 213, 215, 217, 219, 221, 223, 225, 227, 229, 231, 233, 235, 237, 239, 241, 243, 245, 247, 249, 251, 253, 255, 257, 259, 261, 263, 265, 267, 269, 271, 273, 275, 277, 279, 281, 283, 285, 287, 289, 291, 293, 295, 297, 299, 301, 303, 305, 307, 309, 311, 313, 315, 317, 319, 321, 323, 325, 327, 329, 331, 333, 335, 337, 339, 341, 343, 345, 347, 349, 351, 353, 355, 357, 359, 361, 363, 365, 367, 369, 371, 373, 375, 377, 379, 381, 383, 385, 387, 389, 391, 393, 395, 397, 399, 401, 403, 405, 407, 409, 411, 413, 415, 417, 419, 421, 423, 425, 427, 429, 431, 433, 435, 437, 439, 441, 443, 445, 447, 449, 451, 453, 455, 457, 459, 461, 463, 465, 467, 469, 471, 473, 475, 477, 479, 481, 483, 485, 487, 489, 491, 493, 495, 497, 499, 501, 503, 505, 507, 509, 511, 513, 515, 517, 519, 521, 523, 525, 527, 529, 531, 533, 535, 537, 539, 541, 543, 545, 547, 549, 551, 553, 555, 557, 559, 561, 563, 565, 567, 569, 571, 573, 575, 577, 579, 581, 583, 585, 587, 589, 591, 593, 595, 597, 599, 601, 603, 605, 607, 609, 611, 613, 615, 617, 619, 621, 623, 625, 627, 629, 631, 633, 635, 637, 639, 641, 643, 645, 647, 649, 651, 653, 655, 657, 659, 661, 663, 665, 667, 669, 671, 673, 675, 677, 679, 681, 683, 685, 687, 689, 691, 693, 695, 697, 699, 701, 703, 705, 707, 709, 711, 713, 715, 717, 719, 721, 723, 725, 727, 729, 731, 733, 735, 737, 739, 741, 743, 745, 747, 749, 751, 753, 755, 757, 759, 761, 763, 765, 767, 769, 771, 773, 775, 777, 779, 781, 783, 785, 787, 789, 791, 793, 795, 797, 799, 801, 803, 805, 807, 809, 811, 813, 815, 817, 819, 821, 823, 825, 827, 829, 831, 833, 835, 837, 839, 841, 843, 845, 847, 849, 851, 853, 855, 857, 859, 861, 863, 865, 867, 869, 871, 873, 875, 877, 879, 881, 883, 885, 887, 889, 891, 893, 895, 897, 899, 901, 903, 905, 907, 909, 911, 913, 915, 917, 919, 921, 923, 925, 927, 929, 931, 933, 935, 937, 939, 941, 943, 945, 947, 949, 951, 953, 955, 957, 959, 961, 963, 965, 967, 969, 971, 973, 975, 977, 979, 981, 983, 985, 987, 989, 991, 993, 995, 997, 999]\n"
     ]
    }
   ],
   "source": [
    "user = int(input(\"Enter the number :\"))\n",
    "odd=[]\n",
    "for i in range(user):\n",
    "    if i%2 != 0:\n",
    "        odd.append(i)\n",
    "        \n",
    "print(\"odd numbers\",odd)        \n",
    "        \n",
    "        "
   ]
  },
  {
   "cell_type": "code",
   "execution_count": null,
   "id": "62ac464c",
   "metadata": {},
   "outputs": [],
   "source": []
  }
 ],
 "metadata": {
  "kernelspec": {
   "display_name": "Python 3",
   "language": "python",
   "name": "python3"
  },
  "language_info": {
   "codemirror_mode": {
    "name": "ipython",
    "version": 3
   },
   "file_extension": ".py",
   "mimetype": "text/x-python",
   "name": "python",
   "nbconvert_exporter": "python",
   "pygments_lexer": "ipython3",
   "version": "3.8.8"
  }
 },
 "nbformat": 4,
 "nbformat_minor": 5
}
