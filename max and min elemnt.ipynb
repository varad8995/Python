{
 "cells": [
  {
   "cell_type": "code",
   "execution_count": 7,
   "id": "75002b67",
   "metadata": {},
   "outputs": [
    {
     "data": {
      "text/plain": [
       "(22, 160000)"
      ]
     },
     "execution_count": 7,
     "metadata": {},
     "output_type": "execute_result"
    }
   ],
   "source": [
    "def getMaxMin(arr,n):\n",
    "    min = 0\n",
    "    max = 0\n",
    "    if n==1:\n",
    "        min = arr[0]\n",
    "        max = arr[1]\n",
    "        return min ,max\n",
    "    if arr[0]>arr[1]:\n",
    "        min = arr[1]\n",
    "        max = arr[0]\n",
    "        \n",
    "    else:\n",
    "        min = arr[0]\n",
    "        max = arr[1]\n",
    "    for i in range(2,n):\n",
    "        if arr[i]>max:\n",
    "            max= arr[i]\n",
    "        elif arr[i]<min:\n",
    "            min = arr[i]\n",
    "    return  min,max\n",
    "\n",
    "arr = [1200,34,55,66,22,134000,160000]\n",
    "arr_size = len(arr)\n",
    "getMaxMin(arr, arr_size)\n"
   ]
  },
  {
   "cell_type": "code",
   "execution_count": null,
   "id": "2a99955c",
   "metadata": {},
   "outputs": [],
   "source": []
  }
 ],
 "metadata": {
  "kernelspec": {
   "display_name": "Python 3",
   "language": "python",
   "name": "python3"
  },
  "language_info": {
   "codemirror_mode": {
    "name": "ipython",
    "version": 3
   },
   "file_extension": ".py",
   "mimetype": "text/x-python",
   "name": "python",
   "nbconvert_exporter": "python",
   "pygments_lexer": "ipython3",
   "version": "3.8.8"
  }
 },
 "nbformat": 4,
 "nbformat_minor": 5
}
