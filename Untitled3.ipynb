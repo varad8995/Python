{
 "cells": [
  {
   "cell_type": "code",
   "execution_count": 3,
   "id": "801fb0c9",
   "metadata": {},
   "outputs": [
    {
     "name": "stdout",
     "output_type": "stream",
     "text": [
      "7 --> 4 --> 12 --> 11 --> 2 --> 22 --> 21 --> \n",
      "Size : 7\n",
      "Element is found at index None\n"
     ]
    }
   ],
   "source": [
    "class Node:\n",
    "    __slots__ = \"_element\",\"_next\" ## class level member  && instance variables\n",
    "    ##here we are using slots to efficiently allocate a memory and to overcome dict problems which req additional data usage\n",
    "    \n",
    "    \n",
    "    #init function gets insitiated whenever we create an object (when we create a node it will assign it element and link)\n",
    "    \n",
    "    def __init__(self,element,next): \n",
    "        self._element = element #self is used to access instance variables\n",
    "        self._next = next\n",
    "        \n",
    "class LinkedList:\n",
    "    def __init__(self):\n",
    "        self._head = None # assign null value to head \n",
    "        self._tail = None\n",
    "        self.size = 0\n",
    "        \n",
    "    def __len__(self): #return no of elements in linked list\n",
    "        return self.size\n",
    "    \n",
    "    def isempty(self):\n",
    "        return self.size == 0\n",
    "    \n",
    "    def add_node(self,e):\n",
    "        new = Node(e,None)\n",
    "        if self.isempty():\n",
    "            self._head = new\n",
    "            \n",
    "        else:\n",
    "            self._tail._next = new\n",
    "         \n",
    "        self._tail = new\n",
    "        self.size +=1\n",
    "    def display(self):\n",
    "        p = self._head\n",
    "        while p:\n",
    "            print(p._element,end = ' --> ')\n",
    "            p = p._next\n",
    "            \n",
    "        print()    \n",
    "        \n",
    "        \n",
    "    def search(self,key):\n",
    "        p = self._head\n",
    "        index = 0 \n",
    "       \n",
    "        if p._element == key:\n",
    "            return index\n",
    "        else:\n",
    "            p = p._next\n",
    "            index += 1\n",
    "        \n",
    "\n",
    "l = LinkedList()   \n",
    "l.add_node(7)\n",
    "l.add_node(4)\n",
    "l.add_node(12)\n",
    "l.add_node(11)\n",
    "l.add_node(2)\n",
    "l.add_node(22)\n",
    "l.add_node(21)\n",
    "l.display()\n",
    "print('Size :',len(l))\n",
    "i = l.search(4)\n",
    "print(\"Element is found at index\",i)\n",
    "        \n",
    "   \n"
   ]
  },
  {
   "cell_type": "code",
   "execution_count": null,
   "id": "1eb483fd",
   "metadata": {},
   "outputs": [],
   "source": []
  }
 ],
 "metadata": {
  "kernelspec": {
   "display_name": "Python 3",
   "language": "python",
   "name": "python3"
  },
  "language_info": {
   "codemirror_mode": {
    "name": "ipython",
    "version": 3
   },
   "file_extension": ".py",
   "mimetype": "text/x-python",
   "name": "python",
   "nbconvert_exporter": "python",
   "pygments_lexer": "ipython3",
   "version": "3.8.8"
  }
 },
 "nbformat": 4,
 "nbformat_minor": 5
}
