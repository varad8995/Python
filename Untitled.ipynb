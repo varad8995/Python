{
 "cells": [
  {
   "cell_type": "code",
   "execution_count": 7,
   "id": "81a681c1",
   "metadata": {},
   "outputs": [
    {
     "name": "stdout",
     "output_type": "stream",
     "text": [
      "min : 3\n"
     ]
    }
   ],
   "source": [
    "def getMinMax(arr,n):\n",
    "    for i in range(1,n-1):\n",
    "        if(arr[i]<arr[i+1] and arr[i]<arr[i-1]):\n",
    "            print (\"min :\" , arr[i])\n",
    "            \n",
    "       \n",
    "\n",
    "   \n",
    "\n",
    "\n",
    "\n",
    "\n",
    "\n",
    "haha = [5,6,7,3,9,10,11]\n",
    "n = len(haha)\n",
    "getMinMax(haha,n)\n",
    "\n"
   ]
  },
  {
   "cell_type": "code",
   "execution_count": null,
   "id": "80f84a6a",
   "metadata": {},
   "outputs": [],
   "source": []
  }
 ],
 "metadata": {
  "kernelspec": {
   "display_name": "Python 3",
   "language": "python",
   "name": "python3"
  },
  "language_info": {
   "codemirror_mode": {
    "name": "ipython",
    "version": 3
   },
   "file_extension": ".py",
   "mimetype": "text/x-python",
   "name": "python",
   "nbconvert_exporter": "python",
   "pygments_lexer": "ipython3",
   "version": "3.8.8"
  }
 },
 "nbformat": 4,
 "nbformat_minor": 5
}
