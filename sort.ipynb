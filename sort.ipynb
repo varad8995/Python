{
 "cells": [
  {
   "cell_type": "code",
   "execution_count": 12,
   "id": "6bb975c8",
   "metadata": {},
   "outputs": [],
   "source": [
    "def segregateElement(arr,n):\n",
    "    \n",
    "    for i in range(n):\n",
    "        if i<0:\n",
    "            arr[i]=arr[-1]\n",
    "    \n",
    "    return arr\n",
    "            "
   ]
  },
  {
   "cell_type": "code",
   "execution_count": 13,
   "id": "e65f679b",
   "metadata": {},
   "outputs": [
    {
     "data": {
      "text/plain": [
       "[-8, -3, 1, 3, -5, 7, -9, 10]"
      ]
     },
     "execution_count": 13,
     "metadata": {},
     "output_type": "execute_result"
    }
   ],
   "source": [
    "arr=[-8,-3,1,3,-5,7,-9,10]\n",
    "n=7\n",
    "segregateElement(arr,n)"
   ]
  },
  {
   "cell_type": "code",
   "execution_count": 44,
   "id": "5b861924",
   "metadata": {},
   "outputs": [],
   "source": [
    "arr=[-8,-3,1,3,-5,7,-9,10]\n",
    "temp=[]\n",
    "for i in arr:\n",
    "    if i>0:\n",
    "\n",
    "        temp.append(i)\n",
    "        \n",
    " \n",
    "        "
   ]
  },
  {
   "cell_type": "code",
   "execution_count": 45,
   "id": "a9bb3946",
   "metadata": {},
   "outputs": [
    {
     "data": {
      "text/plain": [
       "[1, 3, 7, 10]"
      ]
     },
     "execution_count": 45,
     "metadata": {},
     "output_type": "execute_result"
    }
   ],
   "source": [
    "temp"
   ]
  },
  {
   "cell_type": "code",
   "execution_count": 46,
   "id": "bd29f7e3",
   "metadata": {},
   "outputs": [
    {
     "data": {
      "text/plain": [
       "[-8, -3, 1, 3, -5, 7, -9, 10]"
      ]
     },
     "execution_count": 46,
     "metadata": {},
     "output_type": "execute_result"
    }
   ],
   "source": [
    "arr"
   ]
  },
  {
   "cell_type": "code",
   "execution_count": 54,
   "id": "ab5422b2",
   "metadata": {},
   "outputs": [],
   "source": [
    "\n",
    "def segregateElements(arr, n):\n",
    "    \n",
    "    tmp1 = []\n",
    "    tmp2 = []\n",
    "    for i in arr:\n",
    "        if i >= 0:\n",
    "            tmp1.append(i)\n",
    "        else:\n",
    "            tmp2.append(i)\n",
    "        c = 0\n",
    "        for i in tmp1 + tmp2:\n",
    "            \n",
    "            arr[c] = i\n",
    "            c+=1"
   ]
  },
  {
   "cell_type": "code",
   "execution_count": 55,
   "id": "5d159222",
   "metadata": {},
   "outputs": [],
   "source": [
    "arr=[-8,-3,1,3,-5,7,-9,10]\n",
    "n=len(arr)\n",
    "segregateElements(arr,n)"
   ]
  },
  {
   "cell_type": "code",
   "execution_count": 56,
   "id": "59074a3b",
   "metadata": {},
   "outputs": [
    {
     "data": {
      "text/plain": [
       "[1, 3, 7, 10, -8, -3, -5, -9]"
      ]
     },
     "execution_count": 56,
     "metadata": {},
     "output_type": "execute_result"
    }
   ],
   "source": [
    "arr"
   ]
  },
  {
   "cell_type": "code",
   "execution_count": 58,
   "id": "45a738e6",
   "metadata": {},
   "outputs": [],
   "source": [
    "arr=[-8,-3,1,3,-5,7,-9,10]\n",
    "arr.sort()\n",
    "\n",
    "\n"
   ]
  },
  {
   "cell_type": "code",
   "execution_count": 59,
   "id": "39f30952",
   "metadata": {},
   "outputs": [
    {
     "data": {
      "text/plain": [
       "[-9, -8, -5, -3, 1, 3, 7, 10]"
      ]
     },
     "execution_count": 59,
     "metadata": {},
     "output_type": "execute_result"
    }
   ],
   "source": [
    "arr"
   ]
  },
  {
   "cell_type": "code",
   "execution_count": 60,
   "id": "aefddb2d",
   "metadata": {},
   "outputs": [],
   "source": [
    "def sortarr(arr,n):\n",
    "    arr.sort()\n",
    "    print(\"sorted array is:\",arr)"
   ]
  },
  {
   "cell_type": "code",
   "execution_count": 61,
   "id": "7dca9724",
   "metadata": {},
   "outputs": [
    {
     "name": "stdout",
     "output_type": "stream",
     "text": [
      "sorted array is: [0, 1, 3, 4, 8, 33]\n"
     ]
    }
   ],
   "source": [
    "arr=[8,3,4,1,0,33]\n",
    "n=(len(arr))\n",
    "sortarr(arr,n)"
   ]
  },
  {
   "cell_type": "code",
   "execution_count": null,
   "id": "a196ce8d",
   "metadata": {},
   "outputs": [],
   "source": []
  }
 ],
 "metadata": {
  "kernelspec": {
   "display_name": "Python 3",
   "language": "python",
   "name": "python3"
  },
  "language_info": {
   "codemirror_mode": {
    "name": "ipython",
    "version": 3
   },
   "file_extension": ".py",
   "mimetype": "text/x-python",
   "name": "python",
   "nbconvert_exporter": "python",
   "pygments_lexer": "ipython3",
   "version": "3.8.8"
  }
 },
 "nbformat": 4,
 "nbformat_minor": 5
}
