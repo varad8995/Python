{
 "cells": [
  {
   "cell_type": "markdown",
   "id": "ccbd8b0f",
   "metadata": {},
   "source": [
    "# sorting\n",
    "given a collection of elements,rearrange the elements in ascending order\n",
    "\n",
    "## objective of sorting\n",
    "1. Take input and arrange the elements such that\n",
    "   (a1<=a2<=a3........an-1<=an)"
   ]
  },
  {
   "cell_type": "markdown",
   "id": "bb044fdc",
   "metadata": {},
   "source": [
    "# selection sort\n",
    "idea behind it :\n",
    "\n",
    "\n",
    "1 . select minimum element from the collection \n",
    "2. place selected element in appropriate position\n",
    "3. apply this technique on all remaning elements\n",
    "    "
   ]
  },
  {
   "cell_type": "code",
   "execution_count": 25,
   "id": "0649c26f",
   "metadata": {},
   "outputs": [
    {
     "name": "stdout",
     "output_type": "stream",
     "text": [
      "Total runtime of the program is 0.0\n",
      "Original array: [3, 4, 8, 9, 6, 2]\n",
      "Sorted array [2, 3, 4, 6, 8, 9]\n"
     ]
    }
   ],
   "source": [
    "begin = time.time()\n",
    "def selection_sort(arr) :\n",
    "    n = len(arr)\n",
    "    for i in range(n-1):\n",
    "        position = i #\n",
    "        for j in range(i+1,n):\n",
    "            if arr[j]<arr[position]:\n",
    "                position = j\n",
    "        temp = arr[i]\n",
    "        arr[i]=arr[position]\n",
    "        arr[position]=temp\n",
    "         \n",
    "end = time.time()\n",
    "\n",
    "print(f\"Total runtime of the program is {end - begin}\")   \n",
    "a = [3,4,8,9,6,2]\n",
    "print(\"Original array:\",a)\n",
    "selection_sort(a)\n",
    "print('Sorted array',a)"
   ]
  },
  {
   "cell_type": "markdown",
   "id": "c5c45ee2",
   "metadata": {},
   "source": [
    "# insertion sort\n",
    "1.select one element at a time\n",
    "2.insert the element at a proper position\n",
    "2. after insertion of every element to its left will be sorted\n",
    "\n"
   ]
  },
  {
   "cell_type": "code",
   "execution_count": 24,
   "id": "1a8ce8a3",
   "metadata": {},
   "outputs": [
    {
     "name": "stdout",
     "output_type": "stream",
     "text": [
      "Total runtime of the program is 0.0009992122650146484\n"
     ]
    },
    {
     "data": {
      "text/plain": [
       "[2, 3, 4, 5, 6, 8]"
      ]
     },
     "execution_count": 24,
     "metadata": {},
     "output_type": "execute_result"
    }
   ],
   "source": [
    "# store starting time\n",
    "begin = time.time()\n",
    "def insertion(arr):\n",
    "    for i in range(1,len(arr)):\n",
    "        key = arr[i]\n",
    "        j = i-1\n",
    "        while j>=0 and key<arr[j]:\n",
    "            arr[j+1]=arr[j]\n",
    "            j-=1\n",
    "        arr[j+1]=key    \n",
    "        \n",
    "end = time.time()\n",
    "\n",
    "print(f\"Total runtime of the program is {end - begin}\")            \n",
    "arr = [3,4,6,5,8,2]\n",
    "insertion(arr)\n",
    "arr"
   ]
  },
  {
   "cell_type": "markdown",
   "id": "1a6b655e",
   "metadata": {},
   "source": [
    "# bubble sort\n",
    "1.compare consecutive element \n",
    "2.if left element is less than right element swap them\n",
    "3.continue till end"
   ]
  },
  {
   "cell_type": "code",
   "execution_count": 23,
   "id": "ba2020fc",
   "metadata": {},
   "outputs": [
    {
     "name": "stdout",
     "output_type": "stream",
     "text": [
      "Total runtime of the program is 0.0\n"
     ]
    },
    {
     "data": {
      "text/plain": [
       "[1, 2, 3, 4, 5, 6, 6, 8, 9, 13, 15, 55]"
      ]
     },
     "execution_count": 23,
     "metadata": {},
     "output_type": "execute_result"
    }
   ],
   "source": [
    "# store starting time\n",
    "begin = time.time()\n",
    "def bubblesort(arr):\n",
    "    n = len(arr)\n",
    "    for i in range(n-1,0,-1):\n",
    "        for j in range(i):\n",
    "            if arr[j]>arr[j+1]:\n",
    "                temp = arr[j]\n",
    "                arr[j]=arr[j+1]\n",
    "                arr[j+1]=temp\n",
    "                \n",
    "end = time.time()\n",
    "\n",
    "print(f\"Total runtime of the program is {end - begin}\")                \n",
    "arr = [3,5,8,9,6,2,55,4,6,15,13,1]\n",
    "bubblesort(arr)\n",
    "arr"
   ]
  },
  {
   "cell_type": "markdown",
   "id": "70bd8c69",
   "metadata": {},
   "source": [
    "# merge sort\n",
    "1.select an element and compare element after a gap\n",
    "2.similar to insertion sort\n",
    "3.insert selected element from the gap at its proper position\n"
   ]
  },
  {
   "cell_type": "code",
   "execution_count": 22,
   "id": "6a196c92",
   "metadata": {},
   "outputs": [
    {
     "name": "stdout",
     "output_type": "stream",
     "text": [
      "Total runtime of the program is 0.0\n"
     ]
    }
   ],
   "source": [
    "import time\n",
    "# store starting time\n",
    "begin = time.time()\n",
    "def shellsort(a):\n",
    "    n =len(a)\n",
    "    gap = n //2\n",
    "    while gap>0:\n",
    "        \n",
    "        i = gap\n",
    "        while(i<len(arr)):\n",
    "            \n",
    "            temp = a[i]\n",
    "            j = i-gap\n",
    "            while j>=0 and a[j]>temp:\n",
    "                \n",
    "                a[j+gap]=a[j]\n",
    "                j = j-gap\n",
    "                a[j+gap]=temp\n",
    "            i = i+1\n",
    "            \n",
    "        gap = gap //2 \n",
    "        \n",
    " \n",
    "\n",
    "\n",
    "end = time.time()\n",
    "\n",
    "print(f\"Total runtime of the program is {end - begin}\")"
   ]
  },
  {
   "cell_type": "code",
   "execution_count": 20,
   "id": "34b36914",
   "metadata": {},
   "outputs": [
    {
     "data": {
      "text/plain": [
       "[2, 3, 5, 6, 8, 9]"
      ]
     },
     "execution_count": 20,
     "metadata": {},
     "output_type": "execute_result"
    }
   ],
   "source": [
    "arr = [3,5,8,9,6,2]\n",
    "shellsort(arr)\n",
    "arr"
   ]
  },
  {
   "cell_type": "code",
   "execution_count": null,
   "id": "04561ecc",
   "metadata": {},
   "outputs": [],
   "source": []
  }
 ],
 "metadata": {
  "kernelspec": {
   "display_name": "Python 3",
   "language": "python",
   "name": "python3"
  },
  "language_info": {
   "codemirror_mode": {
    "name": "ipython",
    "version": 3
   },
   "file_extension": ".py",
   "mimetype": "text/x-python",
   "name": "python",
   "nbconvert_exporter": "python",
   "pygments_lexer": "ipython3",
   "version": "3.8.8"
  }
 },
 "nbformat": 4,
 "nbformat_minor": 5
}
