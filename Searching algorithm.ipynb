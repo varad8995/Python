{
 "cells": [
  {
   "cell_type": "code",
   "execution_count": 7,
   "id": "e39ca084",
   "metadata": {},
   "outputs": [],
   "source": [
    "# linear search is sequentially searching an element in array or list and its time complexity is o(n)"
   ]
  },
  {
   "cell_type": "code",
   "execution_count": 15,
   "id": "aa2e85b9",
   "metadata": {},
   "outputs": [
    {
     "name": "stdout",
     "output_type": "stream",
     "text": [
      "Element is at postion : -1\n"
     ]
    }
   ],
   "source": [
    "\n",
    "def linear_search(arr,key):\n",
    "    index = 0\n",
    "    while index <len(arr):\n",
    "        if arr[index]==key:\n",
    "            return index\n",
    "        index = index+1\n",
    "    return -1    \n",
    "\n",
    "\n",
    "arr = [12,44,84,22,56,88]\n",
    "found = linear_search(arr,100)\n",
    "print(\"Element is at postion :\",found)"
   ]
  },
  {
   "cell_type": "markdown",
   "id": "332c1c4a",
   "metadata": {},
   "source": [
    "# binary search\n",
    "## conditon\n",
    "1.array must be sorted"
   ]
  },
  {
   "cell_type": "code",
   "execution_count": 38,
   "id": "7808f0f2",
   "metadata": {},
   "outputs": [
    {
     "name": "stdout",
     "output_type": "stream",
     "text": [
      "element found at index: 4\n",
      "Total runtime of the program is 0.0\n"
     ]
    }
   ],
   "source": [
    "import math\n",
    "import time\n",
    "# store starting time\n",
    "begin = time.time()\n",
    "def binary_iter(arr,key):\n",
    "    l = 0\n",
    "    r = len(arr)-1\n",
    "    while l <= r:\n",
    "        m = ((l+r)//2)\n",
    "        if key == arr[m]:\n",
    "            return m\n",
    "        elif key< arr[m]:\n",
    "            r = m-1\n",
    "        elif key > arr[m]:\n",
    "            l = m+1\n",
    "           \n",
    "    return -1\n",
    "\n",
    "#time.sleep(1)\n",
    "# store end time\n",
    "end = time.time()\n",
    "  \n",
    "\n",
    "arr = [2,4,14,18,23,44,56,88]\n",
    "found = binary_iter(arr,23)\n",
    "print('element found at index:',found)\n",
    "#time complexity of the aboe fucntion is o(logn)\n",
    "print(f\"Total runtime of the program is {end - begin}\")"
   ]
  },
  {
   "cell_type": "code",
   "execution_count": 28,
   "id": "987e0a1b",
   "metadata": {},
   "outputs": [],
   "source": [
    "# binary search using recursive function"
   ]
  },
  {
   "cell_type": "code",
   "execution_count": 43,
   "id": "ee145fcc",
   "metadata": {},
   "outputs": [
    {
     "name": "stdout",
     "output_type": "stream",
     "text": [
      "elemnt found at an index 4\n",
      "Total runtime of the program is 0.0\n"
     ]
    }
   ],
   "source": [
    "begin = time.time()\n",
    "def binary_recursion(arr,key,l,r):\n",
    "    if l >r:\n",
    "        return -1\n",
    "    else:\n",
    "        m = ((l+r)//2)\n",
    "        if key == arr[m]:\n",
    "            return m\n",
    "        elif key < arr[m]:\n",
    "            return binary_recursion(arr,key,l,m-1)\n",
    "        elif key > arr[m]:\n",
    "\n",
    "            return binary_recursion(arr,key,m+1,r)\n",
    "end = time.time()        \n",
    "arr =[1,2,3,4,5,6,7]\n",
    "found = binary_recursion(arr,5,0,6) \n",
    "print(\"elemnt found at an index\",found)\n",
    "print(f\"Total runtime of the program is {end - begin}\")"
   ]
  },
  {
   "cell_type": "code",
   "execution_count": null,
   "id": "c96302a2",
   "metadata": {},
   "outputs": [],
   "source": []
  }
 ],
 "metadata": {
  "kernelspec": {
   "display_name": "Python 3",
   "language": "python",
   "name": "python3"
  },
  "language_info": {
   "codemirror_mode": {
    "name": "ipython",
    "version": 3
   },
   "file_extension": ".py",
   "mimetype": "text/x-python",
   "name": "python",
   "nbconvert_exporter": "python",
   "pygments_lexer": "ipython3",
   "version": "3.8.8"
  }
 },
 "nbformat": 4,
 "nbformat_minor": 5
}
