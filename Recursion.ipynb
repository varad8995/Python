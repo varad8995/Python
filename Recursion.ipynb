{
 "cells": [
  {
   "cell_type": "code",
   "execution_count": 13,
   "id": "34ce2fad",
   "metadata": {},
   "outputs": [],
   "source": [
    "#statement is passsed first and then we call a funtion recursively\n",
    "def fun(n):\n",
    "    \n",
    "    if n>0:\n",
    "        k=n*n\n",
    "        print(k)\n",
    "        fun(n-1)"
   ]
  },
  {
   "cell_type": "code",
   "execution_count": 2,
   "id": "acde79df",
   "metadata": {},
   "outputs": [
    {
     "name": "stdout",
     "output_type": "stream",
     "text": [
      "25\n",
      "16\n",
      "9\n",
      "4\n",
      "1\n"
     ]
    }
   ],
   "source": [
    "fun(5)"
   ]
  },
  {
   "cell_type": "code",
   "execution_count": 5,
   "id": "b5339a0e",
   "metadata": {},
   "outputs": [],
   "source": [
    "#iterative functions\n",
    "def calculate_itr(n):\n",
    "    while n>0:\n",
    "        k = n**2\n",
    "        print(k)\n",
    "        n = n-1\n",
    "def fun(n):\n",
    "    if n>0:\n",
    "        k=n*n\n",
    "        print(k)\n",
    "        fun(n-1)        "
   ]
  },
  {
   "cell_type": "code",
   "execution_count": 7,
   "id": "fbae05a9",
   "metadata": {},
   "outputs": [
    {
     "name": "stdout",
     "output_type": "stream",
     "text": [
      "25\n",
      "16\n",
      "9\n",
      "4\n",
      "1\n",
      "16\n",
      "9\n",
      "4\n",
      "1\n"
     ]
    }
   ],
   "source": [
    "calculate_itr(5)\n",
    "fun(4)"
   ]
  },
  {
   "cell_type": "code",
   "execution_count": 12,
   "id": "d1ddbc0b",
   "metadata": {},
   "outputs": [
    {
     "name": "stdout",
     "output_type": "stream",
     "text": [
      "1\n",
      "4\n",
      "9\n",
      "16\n"
     ]
    }
   ],
   "source": [
    "#head recursion(between base condition and recursive call there should be no statement in between)\n",
    "def fun(n):\n",
    "    if n>0:\n",
    "        fun(n-1) \n",
    "        k=n*n\n",
    "        print(k)\n",
    "        \n",
    "        \n",
    "fun(4)        "
   ]
  },
  {
   "cell_type": "code",
   "execution_count": 17,
   "id": "6e77a04c",
   "metadata": {},
   "outputs": [
    {
     "name": "stdout",
     "output_type": "stream",
     "text": [
      "1\n",
      "4\n",
      "1\n",
      "9\n",
      "1\n",
      "4\n",
      "1\n",
      "16\n",
      "1\n",
      "4\n",
      "1\n",
      "9\n",
      "1\n",
      "4\n",
      "1\n"
     ]
    }
   ],
   "source": [
    "#tree recursion(more than one recursion)\n",
    "def calculate(n):\n",
    "    if n>0:\n",
    "        \n",
    "    \n",
    "        calculate(n-1)\n",
    "        k = n**2\n",
    "        print(k)\n",
    "        calculate(n-1)\n",
    "\n",
    "calculate(4)    \n"
   ]
  },
  {
   "cell_type": "code",
   "execution_count": 31,
   "id": "814b038b",
   "metadata": {},
   "outputs": [],
   "source": [
    "# sum of n natural numbers\n",
    "def sumN(n):\n",
    "    sum = 0\n",
    "    for i in range(n+1):\n",
    "        sum += i\n",
    "        \n",
    "    print(sum)    \n",
    "    "
   ]
  },
  {
   "cell_type": "code",
   "execution_count": 32,
   "id": "599fd361",
   "metadata": {},
   "outputs": [
    {
     "name": "stdout",
     "output_type": "stream",
     "text": [
      "55\n"
     ]
    }
   ],
   "source": [
    "sumN(10)"
   ]
  },
  {
   "cell_type": "code",
   "execution_count": 1,
   "id": "432efca9",
   "metadata": {},
   "outputs": [],
   "source": [
    "def sum_rec(n):\n",
    "    if n==0:\n",
    "        return 0\n",
    "    else:\n",
    "        return sum_rec(n-1)+n"
   ]
  },
  {
   "cell_type": "code",
   "execution_count": 2,
   "id": "b6e632db",
   "metadata": {},
   "outputs": [
    {
     "data": {
      "text/plain": [
       "15"
      ]
     },
     "execution_count": 2,
     "metadata": {},
     "output_type": "execute_result"
    }
   ],
   "source": [
    "sum_rec(5)"
   ]
  },
  {
   "cell_type": "code",
   "execution_count": 5,
   "id": "68a9f2b0",
   "metadata": {},
   "outputs": [],
   "source": [
    "def fact_rec(n):\n",
    "    if n==0:\n",
    "        return 1\n",
    "    else:\n",
    "        return fact_rec(n-1)*n"
   ]
  },
  {
   "cell_type": "code",
   "execution_count": 7,
   "id": "d271cf05",
   "metadata": {},
   "outputs": [
    {
     "data": {
      "text/plain": [
       "120"
      ]
     },
     "execution_count": 7,
     "metadata": {},
     "output_type": "execute_result"
    }
   ],
   "source": [
    "fact_rec(5)"
   ]
  },
  {
   "cell_type": "code",
   "execution_count": null,
   "id": "84c9854e",
   "metadata": {},
   "outputs": [],
   "source": []
  }
 ],
 "metadata": {
  "kernelspec": {
   "display_name": "Python 3",
   "language": "python",
   "name": "python3"
  },
  "language_info": {
   "codemirror_mode": {
    "name": "ipython",
    "version": 3
   },
   "file_extension": ".py",
   "mimetype": "text/x-python",
   "name": "python",
   "nbconvert_exporter": "python",
   "pygments_lexer": "ipython3",
   "version": "3.8.8"
  }
 },
 "nbformat": 4,
 "nbformat_minor": 5
}
